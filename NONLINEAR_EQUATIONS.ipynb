{
 "cells": [
  {
   "cell_type": "markdown",
   "metadata": {},
   "source": [
    "# NON LINEAR EQUATIONS"
   ]
  },
  {
   "cell_type": "code",
   "execution_count": 1,
   "metadata": {},
   "outputs": [],
   "source": [
    "%matplotlib inline\n",
    "from numpy import *\n",
    "from matplotlib.pyplot import *\n",
    "import sympy as sym"
   ]
  },
  {
   "cell_type": "code",
   "execution_count": 2,
   "metadata": {},
   "outputs": [
    {
     "data": {
      "image/png": "[encoded data removed]",
      "text/plain": [
       "<Figure size 432x288 with 1 Axes>"
      ]
     },
     "metadata": {
      "needs_background": "light"
     },
     "output_type": "display_data"
    }
   ],
   "source": [
    "t = sym.symbols('t')\n",
    "\n",
    "f_sym = t/8. *(63.*t**4 - 70.*t**2 + 15.) #Legendre polynomial of order 5\n",
    "\n",
    "f_prime_sym = sym.diff(f_sym, t)\n",
    " \n",
    "f = sym.lambdify(t, f_sym, 'numpy')\n",
    "f_prime = sym.lambdify(t, f_prime_sym, 'numpy')\n",
    "\n",
    "phi = lambda x : 63./70. * x**3 + 15./(70.*x)\n",
    "\n",
    "n = 1025\n",
    "\n",
    "x = linspace(-1, 1, n)\n",
    "c = zeros_like(x)\n",
    "\n",
    "_ = plot(x, f(x))\n",
    "_ = plot(x, c)\n",
    "_ = grid()"
   ]
  },
  {
   "cell_type": "markdown",
   "metadata": {},
   "source": [
    "Questa è la funzione di cui vogliamo andare a calcolare gli zeri con i vari metodi che studieremo nel capitolo 2. Andiamo quindi come prima cosa a crearci i dati iniziali che daremo in pasto ai nostri algoritmi"
   ]
  },
  {
   "cell_type": "code",
   "execution_count": 3,
   "metadata": {},
   "outputs": [],
   "source": [
    "a = 0.7\n",
    "b = 1.\n",
    "\n",
    "x0 = (a + b)/2.0\n",
    "x00 = b"
   ]
  },
  {
   "cell_type": "markdown",
   "metadata": {},
   "source": [
    "Mentre quelli che seguono saranno i criteri di stop(tolleranza e numero massimo di iterazioni)"
   ]
  },
  {
   "cell_type": "code",
   "execution_count": 4,
   "metadata": {},
   "outputs": [],
   "source": [
    "eps = 1e-10\n",
    "n_max = 1000"
   ]
  },
  {
   "cell_type": "markdown",
   "metadata": {},
   "source": [
    "## BISECTION METHOD"
   ]
  },
  {
   "cell_type": "markdown",
   "metadata": {},
   "source": [
    "L'idea è semplice. PArtendo da una funzione continua definita su di un intervallo chiuso e limitato $[a,b]$ tale per cui $f(a)f(b) < 0$ noi sappiamo che per il teorema degli zeri delle funzioni continue $f$ avrà almeno uno zero $\\alpha$ all'interno dell'intervallo $(a,b)$"
   ]
  },
  {
   "cell_type": "markdown",
   "metadata": {},
   "source": [
    "Quello che facciamo quindi con il metodo di bisezione è andare a dividere l'intervallo di partenza $I^{(0)}$ in tanti sottointervallini e ad ogni passo della procedura andremo a calcolare il segno del punto medio. Quello che otterremo è una successione di punti medi $\\{x^{(k)}\\}$ che per forza di cose convergerà ad $\\alpha$, visto che al tendere di $k$ ad infinito l'ampiezza del sottointervallo tende a 0"
   ]
  },
  {
   "cell_type": "code",
   "execution_count": 5,
   "metadata": {},
   "outputs": [],
   "source": [
    "def bisection_method(fun, a, b, eps, n_max):\n",
    "    assert f(a)*f(b) < 0\n",
    "    a_new = a #estremo inferiore dell'intervallo\n",
    "    b_new = b  #estremo superiore dell'intervallo\n",
    "    x = mean([a,b])  # punto medio dell'intervallo\n",
    "    err = eps + 1.  #valore dell'errore (inzializzato a caso)\n",
    "    errors = [err] #conterrà la lista degli errori\n",
    "    it = 0  #numero di iterazioni \n",
    "    k_min = log2((b-a)/eps) -1 # numero minimo di iterazioni \n",
    "    \n",
    "    while(err > eps and it < n_max):\n",
    "        if(fun(a_new) * fun(x) < 0):\n",
    "            b_new = x\n",
    "        else:\n",
    "            a_new = x\n",
    "        \n",
    "        x_new = mean([a_new, b_new])\n",
    "        \n",
    "        err = abs(fun(x_new))\n",
    "        \n",
    "        errors.append(err)\n",
    "        \n",
    "        x = x_new\n",
    "        it += 1\n",
    "        \n",
    "    semilogy(errors)\n",
    "    print('Numero di iterazioni : ', it)\n",
    "    print('Numero atteso di iterazioni : ', k_min)\n",
    "    print('Zero della funzione : ', x)\n",
    "    print('Ultimo errore calcolato : ', err)\n",
    "    \n",
    "    return errors"
   ]
  },
  {
   "cell_type": "code",
   "execution_count": 6,
   "metadata": {},
   "outputs": [
    {
     "name": "stdout",
     "output_type": "stream",
     "text": [
      "Numero di iterazioni :  32\n",
      "Numero atteso di iterazioni :  30.482315354707417\n",
      "Zero della funzione :  0.9061798459501006\n",
      "Ultimo errore calcolato :  7.857261621871514e-11\n"
     ]
    },
    {
     "data": {
      "image/png": "[encoded data removed]",
      "text/plain": [
       "<Figure size 432x288 with 1 Axes>"
      ]
     },
     "metadata": {
      "needs_background": "light"
     },
     "output_type": "display_data"
    }
   ],
   "source": [
    "errors_bisection = bisection_method(f, a, b, eps, n_max)"
   ]
  },
  {
   "cell_type": "markdown",
   "metadata": {},
   "source": [
    "## NEWTON'S METHOD"
   ]
  },
  {
   "cell_type": "markdown",
   "metadata": {},
   "source": [
    "Una sorta di miglioria del metodo di bisezione. Non si limita ad utilizzare come informazione i valori che la f assume agli estremi dell'intervallo ma sfrutta tutti i valori che assumono sia $f$ che la sua derivata $f'$ (sempre che $f$ sia differenziabile). Se così è allora avremo che $$y(x) = f(x^{(k)}) + f'(x^{(k)})(x - x^{(k)})$$ ci darà l'equazione della tangente alla curva $(x, f(x))$ calcolata nel punto $x^{(k)}$"
   ]
  },
  {
   "cell_type": "markdown",
   "metadata": {},
   "source": [
    "Supponendo quindi di scegliere $x^{(k+1)}$ come punto in cui si annulla questa tangente possiamo andare ad ottenere così la formula che sta alla base del metodo di Newton $$x^{(k+1)} = x^{(k)} - \\frac{f(x^{(k)})}{f'(x^{(k)})}$$"
   ]
  },
  {
   "cell_type": "markdown",
   "metadata": {},
   "source": [
    "Dove $k \\ge 0$ "
   ]
  },
  {
   "cell_type": "code",
   "execution_count": 7,
   "metadata": {},
   "outputs": [],
   "source": [
    "def newton_method(fun, fun_prime, x0, eps, n_max):\n",
    "    err = abs(f(x0))  # test on the residual\n",
    "    errors = [err]  # list that will contain the err values\n",
    "    it = 0  # numero di iterazioni\n",
    "    x = x0  # lo zero\n",
    "    \n",
    "    while(err > eps and it < n_max):\n",
    "        qk = fun_prime(x)\n",
    "        if abs(qk) < 1e-12:\n",
    "            raise RuntimeError(\"La derivata è troppo vicina a zero\")\n",
    "        x_new = x - (fun(x)/qk)\n",
    "        err = abs(fun(x_new))\n",
    "        errors.append(err)\n",
    "        it+=1\n",
    "        x = x_new\n",
    "        \n",
    "    print(\"Numero di iterazioni : \", it)\n",
    "    print('Zero della funzione : ', x)\n",
    "    print('Ultimo errore calcolato : ', err)\n",
    "    semilogy(errors)\n",
    "    return errors"
   ]
  },
  {
   "cell_type": "code",
   "execution_count": 8,
   "metadata": {},
   "outputs": [
    {
     "name": "stdout",
     "output_type": "stream",
     "text": [
      "Numero di iterazioni :  5\n",
      "Zero della funzione :  0.9061798459386647\n",
      "Ultimo errore calcolato :  5.633945684709343e-15\n"
     ]
    },
    {
     "data": {
      "image/png": "[encoded data removed]",
      "text/plain": [
       "<Figure size 432x288 with 1 Axes>"
      ]
     },
     "metadata": {
      "needs_background": "light"
     },
     "output_type": "display_data"
    }
   ],
   "source": [
    "newton_errors = newton_method(f, f_prime, 1.0, eps, n_max)"
   ]
  },
  {
   "cell_type": "markdown",
   "metadata": {},
   "source": [
    "Facendo un confronto con il metodo della bisezione possiamo vedere come sia stato molto più rapido, impiegandoci circa un sesto delle iterazioni (5 contro 32!!). Proviamo però a cambiare il guess iniziale per vedere cosa succede"
   ]
  },
  {
   "cell_type": "code",
   "execution_count": 9,
   "metadata": {},
   "outputs": [],
   "source": [
    "#newton_errors = newton_method(f, f_prime, 10, eps, n_max)"
   ]
  },
  {
   "cell_type": "code",
   "execution_count": 10,
   "metadata": {},
   "outputs": [],
   "source": [
    "#newton_errors = newton_method(f, f_prime, 100, eps, n_max)"
   ]
  },
  {
   "cell_type": "code",
   "execution_count": 11,
   "metadata": {
    "scrolled": true
   },
   "outputs": [],
   "source": [
    "#newton_errors = newton_method(f, f_prime, 1000, eps, n_max)"
   ]
  },
  {
   "cell_type": "markdown",
   "metadata": {},
   "source": [
    "Sarà la funzione buona però vediamo che per superare il numero di iterazioni ottenuto con il metodo della bisezione dobbiamo mettere come guess iniziale 1000 che è un valore molto, molto lontano dal nostro zero."
   ]
  },
  {
   "cell_type": "markdown",
   "metadata": {},
   "source": [
    "## SECANT METHOD"
   ]
  },
  {
   "cell_type": "markdown",
   "metadata": {},
   "source": [
    "Questo metodo lo utilizziamo quando vogliamo avere la potenza del metodo di Newton ma stiamo lavorando con una funzione per cui non possiamo andare a calcolarci analiticamente la derivata. Quello che viene fatto è andare a sostuire la derivata con il rapporto incrementale ottenuto utilizzando i valori della f calcolati alle iterazioni precedenti. A differenza degli altri metodi qua sarà necessario andare a fornire due valori inziali. "
   ]
  },
  {
   "cell_type": "markdown",
   "metadata": {},
   "source": [
    "La cosa bella di questo metodo è che se la funzione è derivabile con continuità fino al secondo ordine esiste una costante $c$ per cui il metodo ha una convergenza super lineare. "
   ]
  },
  {
   "cell_type": "code",
   "execution_count": 12,
   "metadata": {},
   "outputs": [],
   "source": [
    "def secant_method(fun, x0, x1, eps, n_max):\n",
    "    err = eps + 1  # solito valore iniziale dell'errore\n",
    "    errors = [err]  #contiene gli errori\n",
    "    it = 0 # numero di iterazioni\n",
    "    xk = x0 # guess iniziale\n",
    "    xkk = x1 # secondo guess iniziale\n",
    "    \n",
    "    while(err > eps and it < n_max):\n",
    "        qk = (fun(xk) - fun(xkk))/(xk - xkk)\n",
    "        x_new = xk - fun(xk)/qk\n",
    "        err = abs(x_new - xk)\n",
    "        xkk = xk\n",
    "        xk = x_new\n",
    "        errors.append(err)\n",
    "        it += 1\n",
    "        \n",
    "    print(\"Numero di iterazioni : \", it)\n",
    "    print('Zero della funzione : ', xk)\n",
    "    print('Ultimo errore calcolato : ', err)\n",
    "    semilogy(errors)\n",
    "    return errors"
   ]
  },
  {
   "cell_type": "code",
   "execution_count": 13,
   "metadata": {
    "scrolled": true
   },
   "outputs": [
    {
     "name": "stdout",
     "output_type": "stream",
     "text": [
      "Numero di iterazioni :  7\n",
      "Zero della funzione :  0.906179845938664\n",
      "Ultimo errore calcolato :  6.433087396118253e-11\n"
     ]
    },
    {
     "data": {
      "image/png": "[encoded data removed]",
      "text/plain": [
       "<Figure size 432x288 with 1 Axes>"
      ]
     },
     "metadata": {
      "needs_background": "light"
     },
     "output_type": "display_data"
    }
   ],
   "source": [
    "secant_errors = secant_method(f, x0, x00, eps, n_max)"
   ]
  },
  {
   "cell_type": "markdown",
   "metadata": {},
   "source": [
    "Possiamo vedere come il numero di iterazioni sia di poco superiore a quello ottenuto con il metodo di Newton"
   ]
  },
  {
   "cell_type": "markdown",
   "metadata": {},
   "source": [
    "## FIXED POINT ITERATIONS"
   ]
  },
  {
   "cell_type": "markdown",
   "metadata": {},
   "source": [
    "Molto più incasinato come metodo. Essenzialmente per trovare gli zeri della $f$ si vanno a cercare i fixed points di un'altra funzione $\\phi$ costruita in modo che $$f(x) = 0 \\Rightarrow x - \\phi(x) = 0$$ "
   ]
  },
  {
   "cell_type": "code",
   "execution_count": 14,
   "metadata": {},
   "outputs": [],
   "source": [
    "def fixed_points(phi, x0, eps, n_max):\n",
    "    x = x0   #il punto in cui stiamo valutando\n",
    "    err = eps + 1 #l'errore iniziale\n",
    "    errors = [err]  #list contente gli errori\n",
    "    it = 0 #numero di iterazioni\n",
    "    \n",
    "    while(err > eps and it < n_max):\n",
    "        x_new  = phi(x)\n",
    "        err = abs(x_new - x)\n",
    "        x = x_new\n",
    "        it += 1\n",
    "        errors.append(err)\n",
    "    \n",
    "    print(\"Numero di iterazioni : \", it)\n",
    "    print('Zero della funzione : ', x)\n",
    "    print('Ultimo errore calcolato : ', err)\n",
    "    semilogy(errors)\n",
    "    return errors"
   ]
  },
  {
   "cell_type": "code",
   "execution_count": 15,
   "metadata": {},
   "outputs": [
    {
     "name": "stdout",
     "output_type": "stream",
     "text": [
      "Numero di iterazioni :  11\n",
      "Zero della funzione :  0.5384693101084483\n",
      "Ultimo errore calcolato :  6.03431749013339e-11\n"
     ]
    },
    {
     "data": {
      "image/png": "[encoded data removed]",
      "text/plain": [
       "<Figure size 432x288 with 1 Axes>"
      ]
     },
     "metadata": {
      "needs_background": "light"
     },
     "output_type": "display_data"
    }
   ],
   "source": [
    "errors_fixed = fixed_points(phi, 0.3, eps, n_max)"
   ]
  },
  {
   "cell_type": "markdown",
   "metadata": {},
   "source": [
    "Il numero di iterazioni è leggermente superiore a quello ottenuto con il metodo di Newton. Proviamo a cambiare punto iniziale per vedere se dipende da quello"
   ]
  },
  {
   "cell_type": "code",
   "execution_count": 16,
   "metadata": {},
   "outputs": [],
   "source": [
    "#errors_fixed = fixed_points(phi, 0.48, eps, n_max)"
   ]
  },
  {
   "cell_type": "markdown",
   "metadata": {},
   "source": [
    "Come possiamo vedere avvicinandoci allo zero il numero diminuisce."
   ]
  },
  {
   "cell_type": "markdown",
   "metadata": {},
   "source": [
    "## COMPARISON"
   ]
  },
  {
   "cell_type": "code",
   "execution_count": 17,
   "metadata": {},
   "outputs": [
    {
     "data": {
      "image/png": "[encoded data removed]",
      "text/plain": [
       "<Figure size 432x288 with 1 Axes>"
      ]
     },
     "metadata": {
      "needs_background": "light"
     },
     "output_type": "display_data"
    }
   ],
   "source": [
    "loglog(errors_bisection, label = 'bisect')\n",
    "loglog(newton_errors, label = 'newton')\n",
    "loglog(secant_errors, label = 'secant')\n",
    "loglog(errors_fixed, label = 'fixed')\n",
    "_ = legend()"
   ]
  },
  {
   "cell_type": "markdown",
   "metadata": {},
   "source": [
    "Come possiamo vedere dal grafico il metodo di Newton è quello che presenta la convergenza più veloce di tutti."
   ]
  },
  {
   "cell_type": "code",
   "execution_count": null,
   "metadata": {},
   "outputs": [],
   "source": []
  }
 ],
 "metadata": {
  "kernelspec": {
   "display_name": "Python 3",
   "language": "python",
   "name": "python3"
  },
  "language_info": {
   "codemirror_mode": {
    "name": "ipython",
    "version": 3
   },
   "file_extension": ".py",
   "mimetype": "text/x-python",
   "name": "python",
   "nbconvert_exporter": "python",
   "pygments_lexer": "ipython3",
   "version": "3.7.2"
  }
 },
 "nbformat": 4,
 "nbformat_minor": 2
}
