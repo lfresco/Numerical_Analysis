{
 "cells": [
  {
   "cell_type": "markdown",
   "metadata": {},
   "source": [
    "# LEAST SQUARES"
   ]
  },
  {
   "cell_type": "markdown",
   "metadata": {},
   "source": [
    "Il metodo dei minimi quadrati classico. Quello che sta dietro la regressione lineare (semplice e multipla)"
   ]
  },
  {
   "cell_type": "code",
   "execution_count": 6,
   "metadata": {},
   "outputs": [
    {
     "name": "stdout",
     "output_type": "stream",
     "text": [
      "501596.6974415791 -549.8997999045419 0.15138771236589207\n"
     ]
    },
    {
     "data": {
      "image/png": "[encoded data removed]",
      "text/plain": [
       "<Figure size 432x288 with 1 Axes>"
      ]
     },
     "metadata": {
      "needs_background": "light"
     },
     "output_type": "display_data"
    }
   ],
   "source": [
    "%matplotlib inline\n",
    "from numpy import *\n",
    "from matplotlib.pyplot import *\n",
    "# Questi sono i nostri dati, i punti su cui vogliamo costruire l'approssimazione\n",
    "year = array([1900, 1910, 1920, 1930, 1941, 1950, 1960, 1970, 1980, 1990, 2000, 2010])\n",
    "population = array([3315, 3753, 3880, 4066, 4266, 4715, 5429, 6270, 6366, 6874, 7288, 7783])\n",
    "\n",
    "#controlla che i due vettori siano entrambi di dimensione n\n",
    "assert len(year) is len(population)\n",
    "\n",
    "\n",
    "n = len(year) #numero di osservazioni\n",
    "B = matrix([ones(n), year, year ** 2]).T  #la matrice B\n",
    "BT = B.T  # e per semplicità la sua trasposta\n",
    "\n",
    "y = matrix(population).T  # il vettore y inteso come una matrice\n",
    "\n",
    "a = linalg.solve(BT*B, BT*y)  # i nostri coefficienti\n",
    "\n",
    "# I coefficienti singoli, li useremo per plottare il polinomio trovato\n",
    "a0 = float(a[0])\n",
    "a1 = float(a[1])\n",
    "a2 = float(a[2])\n",
    "\n",
    "print(a0, a1, a2)\n",
    "\n",
    "xx = linspace(1900, 2010, 100)\n",
    "f = lambda x : a0 + a1*x + a2*x**2\n",
    "\n",
    "_ = plot(xx, f(xx))\n",
    "_ = scatter(year, population, color = 'r') "
   ]
  },
  {
   "cell_type": "code",
   "execution_count": null,
   "metadata": {},
   "outputs": [],
   "source": []
  }
 ],
 "metadata": {
  "kernelspec": {
   "display_name": "Python 3",
   "language": "python",
   "name": "python3"
  },
  "language_info": {
   "codemirror_mode": {
    "name": "ipython",
    "version": 3
   },
   "file_extension": ".py",
   "mimetype": "text/x-python",
   "name": "python",
   "nbconvert_exporter": "python",
   "pygments_lexer": "ipython3",
   "version": "3.7.2"
  }
 },
 "nbformat": 4,
 "nbformat_minor": 2
}
